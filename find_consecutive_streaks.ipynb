{
 "cells": [
  {
   "cell_type": "code",
   "execution_count": 1,
   "metadata": {},
   "outputs": [],
   "source": [
    "'''\n",
    "Find consecutives in a list\n",
    "Consecutive numbers may be out of order and vary in difference\n",
    "Ex:\n",
    "[5, 6, 8, 7, 10, -3] will return 4 b/c of 5, 6, 7, 8\n",
    "[4, 6, 11, 9, 12] will return 3 b/c 6, 9, 12\n",
    "'''\n",
    "lst = [5, 6, 7, 8, 10, -3]\n",
    "def consec_streak(lst):\n",
    "    lst.sort()\n",
    "    length = 1\n",
    "    diff_dict = {}\n",
    "    for idx in range(1, len(lst)):\n",
    "        difference = lst[idx] - lst[idx-1]\n",
    "        if difference in diff_dict:\n",
    "            diff_dict[difference] += 1\n",
    "        else:\n",
    "            diff_dict[difference] = 1\n",
    "    \n",
    "    diff = sorted(diff_dict.items()\n",
    "                  , key = lambda x: x[1]\n",
    "                  , reverse = True\n",
    "                 )[0][0]\n",
    "    \n",
    "    for idx in range(1, len(lst)):\n",
    "        if diff == lst[idx] - lst[idx-1]:\n",
    "            length += 1\n",
    "            \n",
    "    return length\n",
    "    \n",
    "    \n",
    "\n",
    "consec_streak(lst)"
   ]
  },
  {
   "cell_type": "code",
   "execution_count": 2,
   "metadata": {},
   "outputs": [
    {
     "data": {
      "text/plain": [
       "4"
      ]
     },
     "execution_count": 2,
     "metadata": {},
     "output_type": "execute_result"
    }
   ],
   "source": [
    "lst = [5, 6, 7, 8, 10, -3]\n",
    "def consec_streak_O_of_n(lst):\n",
    "    num_set = set(lst)\n",
    "    longest_streak = 0\n",
    "    \n",
    "    for num in num_set:\n",
    "        if num -1 not in num_set:\n",
    "            current_num = num\n",
    "            current_streak = 1\n",
    "            \n",
    "            while current_num + 1 in num_set:\n",
    "                current_streak += 1\n",
    "                current_num += 1\n",
    "            \n",
    "            longest_streak = max(longest_streak, current_streak)\n",
    "    return longest_streak\n",
    "consec_streak_O_of_n(lst)"
   ]
  },
  {
   "cell_type": "code",
   "execution_count": 3,
   "metadata": {},
   "outputs": [
    {
     "data": {
      "text/plain": [
       "4"
      ]
     },
     "execution_count": 3,
     "metadata": {},
     "output_type": "execute_result"
    }
   ],
   "source": [
    "# redo O(n) method\n",
    "def con_streak(lst):\n",
    "    num_set = set(lst)\n",
    "    longest_streak = 0\n",
    "    for num in num_set:\n",
    "        if num - 1 not in num_set:\n",
    "            current_num = num\n",
    "            current_streak = 1\n",
    "            \n",
    "            while current_num +1 in num_set:\n",
    "                current_streak += 1\n",
    "                current_num += 1\n",
    "            \n",
    "            longest_streak = max(longest_streak, current_streak)\n",
    "    return longest_streak\n",
    "con_streak(lst)"
   ]
  },
  {
   "cell_type": "code",
   "execution_count": null,
   "metadata": {},
   "outputs": [],
   "source": []
  }
 ],
 "metadata": {
  "kernelspec": {
   "display_name": "Python 3",
   "language": "python",
   "name": "python3"
  },
  "language_info": {
   "codemirror_mode": {
    "name": "ipython",
    "version": 3
   },
   "file_extension": ".py",
   "mimetype": "text/x-python",
   "name": "python",
   "nbconvert_exporter": "python",
   "pygments_lexer": "ipython3",
   "version": "3.8.2"
  }
 },
 "nbformat": 4,
 "nbformat_minor": 4
}
